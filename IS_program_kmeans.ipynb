{
  "nbformat": 4,
  "nbformat_minor": 0,
  "metadata": {
    "colab": {
      "provenance": []
    },
    "kernelspec": {
      "name": "python3",
      "display_name": "Python 3"
    },
    "language_info": {
      "name": "python"
    }
  },
  "cells": [
    {
      "cell_type": "markdown",
      "source": [
        "# Приложение, реализующее метод k-means. Выполнил Макаров Дмитрий ПИ-19-1\n",
        "Данное приложение является программой, которую необходимо написать в рамках курса \"Интеллектуальные системмы\". Для правильного понимания метода k-means важно отрисовывать графики, поэтому было решено использовать Google colab. Но из-за этого очень затруднительно реализовать полный GUI, поэтому данное решение можно назвать немного ограниченным.\n",
        "\n",
        "Здесь будут реализованы следующие функции:\n",
        "* Подгрузка указанного файла .csv (из локального окружения);\n",
        "* Сохранение в .csv файл полученных данных (с разделением на классы);\n",
        "* Подсчёт классов (разделение до 5 классов, обычно разделение заканчивают на 4);\n",
        "* Отображение инфографики. График точек до, график с обласстями (и точками для каждого k), график колено.\n",
        "\n",
        "~ Прим. Также стоит отметить, что данный пример далёк от идеала. Во-первых, данная программа использует не готовоё решение по подсчёту k-means, поэтому он идеально способен просчитывать только численные значения переенных. В теории, это можно обойти при помощи кодирования строк, но это сильно расширит данные и т. д. Поэтому в данном примере работа ведётся только с численными признаками. Во-вторых, безусловно можно засовыватьь множество признаков, но графики буду отрисовываться только в случае 2D. Это связано с тем, что нормально отобразить что-то больше 3D пространства сложно, особенно на статичном графике.\n",
        "\n",
        "\n"
      ],
      "metadata": {
        "id": "LR7Uw86fxcje"
      }
    },
    {
      "cell_type": "markdown",
      "source": [
        "Импорт библиотек"
      ],
      "metadata": {
        "id": "leAz5oZ47aDb"
      }
    },
    {
      "cell_type": "code",
      "execution_count": 59,
      "metadata": {
        "id": "tBgfgft-tihK"
      },
      "outputs": [],
      "source": [
        "import matplotlib.pyplot as plt\n",
        "import numpy as np\n",
        "import pandas as pd\n",
        "import random\n",
        "import math"
      ]
    },
    {
      "cell_type": "markdown",
      "source": [
        "Загрузка .csv файла из текущего окружения"
      ],
      "metadata": {
        "id": "9hqiJ2NH8Q6F"
      }
    },
    {
      "cell_type": "code",
      "source": [
        "# Вставьте имя файла, данные которго вы используете как входные\n",
        "df = pd.read_csv('IS_data.csv', delimiter=';')"
      ],
      "metadata": {
        "id": "8eItPWMd8Qdb"
      },
      "execution_count": 60,
      "outputs": []
    },
    {
      "cell_type": "markdown",
      "source": [
        "Входные данные"
      ],
      "metadata": {
        "id": "jwEyomMOFTVw"
      }
    },
    {
      "cell_type": "code",
      "source": [
        "df"
      ],
      "metadata": {
        "colab": {
          "base_uri": "https://localhost:8080/",
          "height": 520
        },
        "id": "0o-QPQ5VFWEa",
        "outputId": "a91753ff-feff-4541-9459-c57bbecd2b09"
      },
      "execution_count": 61,
      "outputs": [
        {
          "output_type": "execute_result",
          "data": {
            "text/plain": [
              "    Weight  Price\n",
              "0        1      3\n",
              "1        3      3\n",
              "2        4      3\n",
              "3        5      3\n",
              "4        1      2\n",
              "5        4      2\n",
              "6        1      1\n",
              "7        2      1\n",
              "8        6      3\n",
              "9        6      2\n",
              "10       3      1\n",
              "11       3      2\n",
              "12       4      1\n",
              "13       6      1\n",
              "14       2      2"
            ],
            "text/html": [
              "\n",
              "  <div id=\"df-0bc8f532-2085-4bd3-be8f-331e64308819\">\n",
              "    <div class=\"colab-df-container\">\n",
              "      <div>\n",
              "<style scoped>\n",
              "    .dataframe tbody tr th:only-of-type {\n",
              "        vertical-align: middle;\n",
              "    }\n",
              "\n",
              "    .dataframe tbody tr th {\n",
              "        vertical-align: top;\n",
              "    }\n",
              "\n",
              "    .dataframe thead th {\n",
              "        text-align: right;\n",
              "    }\n",
              "</style>\n",
              "<table border=\"1\" class=\"dataframe\">\n",
              "  <thead>\n",
              "    <tr style=\"text-align: right;\">\n",
              "      <th></th>\n",
              "      <th>Weight</th>\n",
              "      <th>Price</th>\n",
              "    </tr>\n",
              "  </thead>\n",
              "  <tbody>\n",
              "    <tr>\n",
              "      <th>0</th>\n",
              "      <td>1</td>\n",
              "      <td>3</td>\n",
              "    </tr>\n",
              "    <tr>\n",
              "      <th>1</th>\n",
              "      <td>3</td>\n",
              "      <td>3</td>\n",
              "    </tr>\n",
              "    <tr>\n",
              "      <th>2</th>\n",
              "      <td>4</td>\n",
              "      <td>3</td>\n",
              "    </tr>\n",
              "    <tr>\n",
              "      <th>3</th>\n",
              "      <td>5</td>\n",
              "      <td>3</td>\n",
              "    </tr>\n",
              "    <tr>\n",
              "      <th>4</th>\n",
              "      <td>1</td>\n",
              "      <td>2</td>\n",
              "    </tr>\n",
              "    <tr>\n",
              "      <th>5</th>\n",
              "      <td>4</td>\n",
              "      <td>2</td>\n",
              "    </tr>\n",
              "    <tr>\n",
              "      <th>6</th>\n",
              "      <td>1</td>\n",
              "      <td>1</td>\n",
              "    </tr>\n",
              "    <tr>\n",
              "      <th>7</th>\n",
              "      <td>2</td>\n",
              "      <td>1</td>\n",
              "    </tr>\n",
              "    <tr>\n",
              "      <th>8</th>\n",
              "      <td>6</td>\n",
              "      <td>3</td>\n",
              "    </tr>\n",
              "    <tr>\n",
              "      <th>9</th>\n",
              "      <td>6</td>\n",
              "      <td>2</td>\n",
              "    </tr>\n",
              "    <tr>\n",
              "      <th>10</th>\n",
              "      <td>3</td>\n",
              "      <td>1</td>\n",
              "    </tr>\n",
              "    <tr>\n",
              "      <th>11</th>\n",
              "      <td>3</td>\n",
              "      <td>2</td>\n",
              "    </tr>\n",
              "    <tr>\n",
              "      <th>12</th>\n",
              "      <td>4</td>\n",
              "      <td>1</td>\n",
              "    </tr>\n",
              "    <tr>\n",
              "      <th>13</th>\n",
              "      <td>6</td>\n",
              "      <td>1</td>\n",
              "    </tr>\n",
              "    <tr>\n",
              "      <th>14</th>\n",
              "      <td>2</td>\n",
              "      <td>2</td>\n",
              "    </tr>\n",
              "  </tbody>\n",
              "</table>\n",
              "</div>\n",
              "      <button class=\"colab-df-convert\" onclick=\"convertToInteractive('df-0bc8f532-2085-4bd3-be8f-331e64308819')\"\n",
              "              title=\"Convert this dataframe to an interactive table.\"\n",
              "              style=\"display:none;\">\n",
              "        \n",
              "  <svg xmlns=\"http://www.w3.org/2000/svg\" height=\"24px\"viewBox=\"0 0 24 24\"\n",
              "       width=\"24px\">\n",
              "    <path d=\"M0 0h24v24H0V0z\" fill=\"none\"/>\n",
              "    <path d=\"M18.56 5.44l.94 2.06.94-2.06 2.06-.94-2.06-.94-.94-2.06-.94 2.06-2.06.94zm-11 1L8.5 8.5l.94-2.06 2.06-.94-2.06-.94L8.5 2.5l-.94 2.06-2.06.94zm10 10l.94 2.06.94-2.06 2.06-.94-2.06-.94-.94-2.06-.94 2.06-2.06.94z\"/><path d=\"M17.41 7.96l-1.37-1.37c-.4-.4-.92-.59-1.43-.59-.52 0-1.04.2-1.43.59L10.3 9.45l-7.72 7.72c-.78.78-.78 2.05 0 2.83L4 21.41c.39.39.9.59 1.41.59.51 0 1.02-.2 1.41-.59l7.78-7.78 2.81-2.81c.8-.78.8-2.07 0-2.86zM5.41 20L4 18.59l7.72-7.72 1.47 1.35L5.41 20z\"/>\n",
              "  </svg>\n",
              "      </button>\n",
              "      \n",
              "  <style>\n",
              "    .colab-df-container {\n",
              "      display:flex;\n",
              "      flex-wrap:wrap;\n",
              "      gap: 12px;\n",
              "    }\n",
              "\n",
              "    .colab-df-convert {\n",
              "      background-color: #E8F0FE;\n",
              "      border: none;\n",
              "      border-radius: 50%;\n",
              "      cursor: pointer;\n",
              "      display: none;\n",
              "      fill: #1967D2;\n",
              "      height: 32px;\n",
              "      padding: 0 0 0 0;\n",
              "      width: 32px;\n",
              "    }\n",
              "\n",
              "    .colab-df-convert:hover {\n",
              "      background-color: #E2EBFA;\n",
              "      box-shadow: 0px 1px 2px rgba(60, 64, 67, 0.3), 0px 1px 3px 1px rgba(60, 64, 67, 0.15);\n",
              "      fill: #174EA6;\n",
              "    }\n",
              "\n",
              "    [theme=dark] .colab-df-convert {\n",
              "      background-color: #3B4455;\n",
              "      fill: #D2E3FC;\n",
              "    }\n",
              "\n",
              "    [theme=dark] .colab-df-convert:hover {\n",
              "      background-color: #434B5C;\n",
              "      box-shadow: 0px 1px 3px 1px rgba(0, 0, 0, 0.15);\n",
              "      filter: drop-shadow(0px 1px 2px rgba(0, 0, 0, 0.3));\n",
              "      fill: #FFFFFF;\n",
              "    }\n",
              "  </style>\n",
              "\n",
              "      <script>\n",
              "        const buttonEl =\n",
              "          document.querySelector('#df-0bc8f532-2085-4bd3-be8f-331e64308819 button.colab-df-convert');\n",
              "        buttonEl.style.display =\n",
              "          google.colab.kernel.accessAllowed ? 'block' : 'none';\n",
              "\n",
              "        async function convertToInteractive(key) {\n",
              "          const element = document.querySelector('#df-0bc8f532-2085-4bd3-be8f-331e64308819');\n",
              "          const dataTable =\n",
              "            await google.colab.kernel.invokeFunction('convertToInteractive',\n",
              "                                                     [key], {});\n",
              "          if (!dataTable) return;\n",
              "\n",
              "          const docLinkHtml = 'Like what you see? Visit the ' +\n",
              "            '<a target=\"_blank\" href=https://colab.research.google.com/notebooks/data_table.ipynb>data table notebook</a>'\n",
              "            + ' to learn more about interactive tables.';\n",
              "          element.innerHTML = '';\n",
              "          dataTable['output_type'] = 'display_data';\n",
              "          await google.colab.output.renderOutput(dataTable, element);\n",
              "          const docLink = document.createElement('div');\n",
              "          docLink.innerHTML = docLinkHtml;\n",
              "          element.appendChild(docLink);\n",
              "        }\n",
              "      </script>\n",
              "    </div>\n",
              "  </div>\n",
              "  "
            ]
          },
          "metadata": {},
          "execution_count": 61
        }
      ]
    },
    {
      "cell_type": "markdown",
      "source": [
        "Отображение точек на графике"
      ],
      "metadata": {
        "id": "thBzjS4wAgWG"
      }
    },
    {
      "cell_type": "code",
      "source": [
        "if (df.shape[1] == 2):\n",
        "  plt.title(\"Начально расположение точек\")\n",
        "  plt.xlabel(df.columns[0])\n",
        "  plt.ylabel(df.columns[1])\n",
        "  plt.scatter(df.iloc[:, 0].tolist(), df.iloc[:, 1].tolist())\n",
        "  plt.show"
      ],
      "metadata": {
        "colab": {
          "base_uri": "https://localhost:8080/",
          "height": 295
        },
        "id": "SWX-2445Aews",
        "outputId": "fc27a876-b46c-4ed8-c50d-fdc17701c0e4"
      },
      "execution_count": 62,
      "outputs": [
        {
          "output_type": "display_data",
          "data": {
            "text/plain": [
              "<Figure size 432x288 with 1 Axes>"
            ],
            "image/png": "[encoded data removed]"
          },
          "metadata": {
            "needs_background": "light"
          }
        }
      ]
    },
    {
      "cell_type": "markdown",
      "source": [
        "Главная функция распределения по кластерам"
      ],
      "metadata": {
        "id": "KF47jlSXGB0l"
      }
    },
    {
      "cell_type": "code",
      "source": [
        "def DefineClaster(k, df):\n",
        "  initial_centers = []\n",
        "  centers = []\n",
        "\n",
        "  # инициализируем начальные центры\n",
        "  for i in range(k):\n",
        "    not_initialized = True\n",
        "    while(not_initialized):\n",
        "      c = random.randint(0, df.shape[0] - 1)\n",
        "      if (c not in initial_centers):\n",
        "        initial_centers.append(c)\n",
        "        not_initialized = False\n",
        "\n",
        "  # добавляем их в массив\n",
        "  for val in initial_centers:\n",
        "    curr_center = []\n",
        "    for i in range(df.shape[1]):\n",
        "      curr_center.append(float(df.iloc[val][i]))\n",
        "    centers.append(curr_center)\n",
        "  \n",
        "  # разделение на кластеры\n",
        "  df['Claster'] = 0\n",
        "  is_finished = False\n",
        "  E = 0\n",
        "\n",
        "  while(not is_finished):\n",
        "    E = 0\n",
        "    previous_centers = centers[:]\n",
        "    calculated_space = []\n",
        "\n",
        "    # Подсчёт расстояний\n",
        "    for i in range(df.shape[0]):\n",
        "      spaces = []\n",
        "      for j in range(k):\n",
        "        space = 0\n",
        "        for h in range(df.shape[1] - 1):\n",
        "          space += ((df.iloc[i][h] - centers[j][h])**2) \n",
        "        space = math.sqrt(space)\n",
        "        spaces.append(space)\n",
        "      calculated_space.append(spaces)\n",
        "    \n",
        "    # Определение минимального и определение кластера\n",
        "    for i in range(df.shape[0]):\n",
        "      claster = calculated_space[i].index(min(calculated_space[i])) + 1\n",
        "      df.loc[i, 'Claster'] = claster\n",
        "      E += min(calculated_space[i])**2\n",
        "    \n",
        "    # Переопределение центров\n",
        "    for i in range(k):\n",
        "      for h in range(df.shape[1] - 1):\n",
        "        centers[i][h] = df.loc[df['Claster'] == i + 1, df.columns[h]].mean()\n",
        "\n",
        "    # Сравнение центров для возможного выхода из цикла\n",
        "    is_finished = True\n",
        "    for i in range(k):\n",
        "      for j in range(df.shape[1] - 1):\n",
        "        if (previous_centers[i][j] != centers[i][j]):\n",
        "          is_finished = False\n",
        "\n",
        "  return E, df"
      ],
      "metadata": {
        "id": "RZt0O4SIFJXV"
      },
      "execution_count": 63,
      "outputs": []
    },
    {
      "cell_type": "markdown",
      "source": [
        "Отрисовка графиков"
      ],
      "metadata": {
        "id": "3iGti5gswBgz"
      }
    },
    {
      "cell_type": "code",
      "source": [
        "def DrawClasterGraphics(df, k):\n",
        "  if (df.shape[1] == 3):\n",
        "    plt.title(\"График для k = {}\".format(k))\n",
        "    plt.xlabel(df.columns[0])\n",
        "    plt.ylabel(df.columns[1])\n",
        "    for i in range(k):\n",
        "      plt.scatter(df.loc[df['Claster'] == i + 1, df.columns[0]], df.loc[df['Claster'] == i + 1, df.columns[1]])\n",
        "    plt.show"
      ],
      "metadata": {
        "id": "TSoTU-CwwE70"
      },
      "execution_count": 64,
      "outputs": []
    },
    {
      "cell_type": "code",
      "source": [
        "def DrawKmeansGraphics(df, Elist):\n",
        "  if (df.shape[1] == 2):\n",
        "    plt.title(\"Колено для кластеров\")\n",
        "    plt.xlabel(\"k\")\n",
        "    plt.ylabel(\"E\")\n",
        "    x = [2, 3, 4, 5]\n",
        "    plt.plot(x, Elist)\n",
        "    plt.show"
      ],
      "metadata": {
        "id": "0JvcXZ_OwY6w"
      },
      "execution_count": 65,
      "outputs": []
    },
    {
      "cell_type": "markdown",
      "source": [
        "Разделение по кластерам для различных k (2, 3, 4, 5). То, к какому кластеру принадлежит точка можно определить по её цвету."
      ],
      "metadata": {
        "id": "F2oIudgMv5A-"
      }
    },
    {
      "cell_type": "code",
      "source": [
        "E_k2, df_k2 = DefineClaster(2, df.copy())\n",
        "DrawClasterGraphics(df_k2, 2)"
      ],
      "metadata": {
        "colab": {
          "base_uri": "https://localhost:8080/",
          "height": 295
        },
        "id": "FFx9AewsL5bs",
        "outputId": "71750297-eed9-4a93-eb90-2d285f8421a8"
      },
      "execution_count": 66,
      "outputs": [
        {
          "output_type": "display_data",
          "data": {
            "text/plain": [
              "<Figure size 432x288 with 1 Axes>"
            ],
            "image/png": "[encoded data removed]"
          },
          "metadata": {
            "needs_background": "light"
          }
        }
      ]
    },
    {
      "cell_type": "code",
      "source": [
        "E_k3, df_k3 = DefineClaster(3, df.copy())\n",
        "DrawClasterGraphics(df_k3, 3)"
      ],
      "metadata": {
        "colab": {
          "base_uri": "https://localhost:8080/",
          "height": 295
        },
        "id": "nRrBPN9wwYSr",
        "outputId": "c44904b3-5337-4f0b-cdf5-e772168cdbea"
      },
      "execution_count": 67,
      "outputs": [
        {
          "output_type": "display_data",
          "data": {
            "text/plain": [
              "<Figure size 432x288 with 1 Axes>"
            ],
            "image/png": "[encoded data removed]"
          },
          "metadata": {
            "needs_background": "light"
          }
        }
      ]
    },
    {
      "cell_type": "code",
      "source": [
        "E_k4, df_k4 = DefineClaster(4, df.copy())\n",
        "DrawClasterGraphics(df_k4, 4)"
      ],
      "metadata": {
        "colab": {
          "base_uri": "https://localhost:8080/",
          "height": 295
        },
        "id": "87A7fbVmoHiR",
        "outputId": "cb3daa0e-3b22-4585-9131-0035f9a8fefc"
      },
      "execution_count": 68,
      "outputs": [
        {
          "output_type": "display_data",
          "data": {
            "text/plain": [
              "<Figure size 432x288 with 1 Axes>"
            ],
            "image/png": "[encoded data removed]"
          },
          "metadata": {
            "needs_background": "light"
          }
        }
      ]
    },
    {
      "cell_type": "code",
      "source": [
        "E_k5, df_k5 = DefineClaster(5, df.copy())\n",
        "DrawClasterGraphics(df_k5, 5)"
      ],
      "metadata": {
        "colab": {
          "base_uri": "https://localhost:8080/",
          "height": 295
        },
        "id": "icj6A7CBoE5J",
        "outputId": "6928cfa3-ccf8-484a-88f4-c4260b598ac2"
      },
      "execution_count": 69,
      "outputs": [
        {
          "output_type": "display_data",
          "data": {
            "text/plain": [
              "<Figure size 432x288 with 1 Axes>"
            ],
            "image/png": "[encoded data removed]"
          },
          "metadata": {
            "needs_background": "light"
          }
        }
      ]
    },
    {
      "cell_type": "markdown",
      "source": [
        "Далее будет отрисовка колена, отражающего отдаление точек от центров их кластеров."
      ],
      "metadata": {
        "id": "j_SVVNaBzzxB"
      }
    },
    {
      "cell_type": "code",
      "source": [
        "elist = [E_k2, E_k3, E_k4, E_k5]\n",
        "DrawKmeansGraphics(df, elist)"
      ],
      "metadata": {
        "colab": {
          "base_uri": "https://localhost:8080/",
          "height": 295
        },
        "id": "mUWPueH5ME1t",
        "outputId": "cca19854-42a9-4597-df57-2f20482e4c3d"
      },
      "execution_count": 70,
      "outputs": [
        {
          "output_type": "display_data",
          "data": {
            "text/plain": [
              "<Figure size 432x288 with 1 Axes>"
            ],
            "image/png": "[encoded data removed]"
          },
          "metadata": {
            "needs_background": "light"
          }
        }
      ]
    },
    {
      "cell_type": "markdown",
      "source": [
        "Сохранение полученных данных в .csv файлы"
      ],
      "metadata": {
        "id": "dAe69bL11vUS"
      }
    },
    {
      "cell_type": "code",
      "source": [
        "df_k2.to_csv(\"IS_data_k2.csv\", sep=';', encoding='utf-8')\n",
        "df_k3.to_csv(\"IS_data_k3.csv\", sep=';', encoding='utf-8')\n",
        "df_k4.to_csv(\"IS_data_k4.csv\", sep=';', encoding='utf-8')\n",
        "df_k5.to_csv(\"IS_data_k5.csv\", sep=';', encoding='utf-8')"
      ],
      "metadata": {
        "id": "uZ9zuELEdiqY"
      },
      "execution_count": 71,
      "outputs": []
    }
  ]
}